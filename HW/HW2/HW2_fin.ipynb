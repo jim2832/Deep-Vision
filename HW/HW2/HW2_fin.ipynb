{
  "cells": [
    {
      "cell_type": "markdown",
      "metadata": {
        "id": "M-HlEB8a-zP4"
      },
      "source": [
        "# K-Nearest Neighbor\n",
        "K-nearest neighbor(KNN) is an algorithm that often used in classification task. It predicts a class for test data by calculating the distances between the test data and all the training data. We are going to implement a KNN classifier with MNIST dataset in this exercise.\n",
        "\n",
        "MNIST dataset contains 70,000 sets of images and labels for handwritten digits. Each image is 28*28 pixel in grayscale and labeled between 0 to 9."
      ]
    },
    {
      "cell_type": "markdown",
      "metadata": {
        "id": "jejq7IkPl3EW"
      },
      "source": [
        "## Data Preparation and Visualization"
      ]
    },
    {
      "cell_type": "code",
      "execution_count": 1,
      "metadata": {
        "colab": {
          "base_uri": "https://localhost:8080/"
        },
        "id": "D2Tgy1jzl8ov",
        "outputId": "f534557a-4719-43ec-9a77-a1bdf03baeb7"
      },
      "outputs": [
        {
          "name": "stdout",
          "output_type": "stream",
          "text": [
            "Mounted at /content/drive\n"
          ]
        }
      ],
      "source": [
        "from google.colab import drive\n",
        "drive.mount('/content/drive')"
      ]
    },
    {
      "cell_type": "code",
      "execution_count": 2,
      "metadata": {
        "id": "trT1IVwbmNRR"
      },
      "outputs": [],
      "source": [
        "import sys\n",
        "sys.path.append('/content/drive/MyDrive/HW2/')"
      ]
    },
    {
      "cell_type": "code",
      "execution_count": 3,
      "metadata": {
        "id": "IGj5sAAo9g1m"
      },
      "outputs": [],
      "source": [
        "from _utils import load_data\n",
        "import numpy as np\n",
        "import matplotlib.pyplot as plt"
      ]
    },
    {
      "cell_type": "code",
      "execution_count": 4,
      "metadata": {
        "colab": {
          "base_uri": "https://localhost:8080/",
          "height": 423,
          "referenced_widgets": [
            "4613113e052441e0b790fcaa9beadf7f",
            "cc1f69b2ab484b369c436bae488eb89b",
            "e0ee9b6901fa4afb8c22babacc421ad4",
            "f44d6269806046c99f7c09c29eb7282d",
            "a2135126c7eb41d7b3f64513f59763d2",
            "a22a5971eef84f64aa559a3d49ae9f03",
            "0fb2bfc71b26455780cf27fdc8288bec",
            "7d58ad3cfbc0441eb595892f1f3bf321",
            "fa3d21e3219f4c9d922fd42143c63dfa",
            "313a2649ed0540aaa72fd7e2674247dc",
            "fe464b025201445fb8c791ad906a04ca",
            "274c939b7f164214b8d406229710c7c0",
            "7688f0710b7742f88580b944aa04c597",
            "c977b9417ad74a51a29d21b06ac35950",
            "fe4fcd43cfc04590afed34ce3ff2581e",
            "500255c1bbc34aba8a5195e087aa0cb5",
            "3004b3b0f1314f45a31ae44102d2868e",
            "a37e60ae89f64505ad95ed7fdd8fbeb5",
            "d7f1abcebade4c94955e30a93e618778",
            "ff291a025608445db331c6e7ade82431",
            "d057ff5f8f99413eae5e88090f2abbd8",
            "7bdc250eac8b41878d935ff534317c82",
            "c7d3ff0ae84a45638d85b5b52a6a9b4b",
            "9688cfb2332c46eb9b2817cd99b91f74",
            "80324548470f4d75954a9c164a39e32c",
            "d76eedd6b1064223996c5dc272357f84",
            "832a296ab6084234b091b9af4af67f06",
            "06f0e46c221948498e0c8d7806bd6058",
            "8207d314a7c74c379741046e83527437",
            "214391a3659f4fe581ad2e12fc3496db",
            "44c9ffa2628941f3b2461cf07b57647c",
            "abeaeb27d3384d9d9a742e12f57847c5",
            "b93772220721419f8216bc2ea378fa18",
            "ab4306767d654876aac1a4a2ed25b44f",
            "84e5b0a7754c4e81b44fabd961ae07fc",
            "187e9ac020a1472ba5eb6eadfdcf9504",
            "be0e7bc3d3e645ddb3d21970e76b7ed7",
            "eb75e2cda58f45af8d8624dbb08e56c5",
            "ff383935b49b4b599e1aaee14a076251",
            "275d15becd8c45ab9215030d3b222a9b",
            "80b5373a71d84274aa8b7b91b5b6b41b",
            "3fa39935a5534fc882414fbe6eac5feb",
            "4e5d109d2ec742f689203066e378bf66",
            "a991b1f13f42461c85cc9a5c4f1f4626"
          ]
        },
        "id": "7JTkzoRIL9o-",
        "outputId": "1f88216d-c04d-403f-e029-bc43469f4f35"
      },
      "outputs": [
        {
          "name": "stdout",
          "output_type": "stream",
          "text": [
            "Downloading http://yann.lecun.com/exdb/mnist/train-images-idx3-ubyte.gz\n",
            "Downloading http://yann.lecun.com/exdb/mnist/train-images-idx3-ubyte.gz to ./mnist/MNIST/raw/train-images-idx3-ubyte.gz\n"
          ]
        },
        {
          "data": {
            "application/vnd.jupyter.widget-view+json": {
              "model_id": "4613113e052441e0b790fcaa9beadf7f",
              "version_major": 2,
              "version_minor": 0
            },
            "text/plain": [
              "  0%|          | 0/9912422 [00:00<?, ?it/s]"
            ]
          },
          "metadata": {},
          "output_type": "display_data"
        },
        {
          "name": "stdout",
          "output_type": "stream",
          "text": [
            "Extracting ./mnist/MNIST/raw/train-images-idx3-ubyte.gz to ./mnist/MNIST/raw\n",
            "\n",
            "Downloading http://yann.lecun.com/exdb/mnist/train-labels-idx1-ubyte.gz\n",
            "Downloading http://yann.lecun.com/exdb/mnist/train-labels-idx1-ubyte.gz to ./mnist/MNIST/raw/train-labels-idx1-ubyte.gz\n"
          ]
        },
        {
          "data": {
            "application/vnd.jupyter.widget-view+json": {
              "model_id": "274c939b7f164214b8d406229710c7c0",
              "version_major": 2,
              "version_minor": 0
            },
            "text/plain": [
              "  0%|          | 0/28881 [00:00<?, ?it/s]"
            ]
          },
          "metadata": {},
          "output_type": "display_data"
        },
        {
          "name": "stdout",
          "output_type": "stream",
          "text": [
            "Extracting ./mnist/MNIST/raw/train-labels-idx1-ubyte.gz to ./mnist/MNIST/raw\n",
            "\n",
            "Downloading http://yann.lecun.com/exdb/mnist/t10k-images-idx3-ubyte.gz\n",
            "Downloading http://yann.lecun.com/exdb/mnist/t10k-images-idx3-ubyte.gz to ./mnist/MNIST/raw/t10k-images-idx3-ubyte.gz\n"
          ]
        },
        {
          "data": {
            "application/vnd.jupyter.widget-view+json": {
              "model_id": "c7d3ff0ae84a45638d85b5b52a6a9b4b",
              "version_major": 2,
              "version_minor": 0
            },
            "text/plain": [
              "  0%|          | 0/1648877 [00:00<?, ?it/s]"
            ]
          },
          "metadata": {},
          "output_type": "display_data"
        },
        {
          "name": "stdout",
          "output_type": "stream",
          "text": [
            "Extracting ./mnist/MNIST/raw/t10k-images-idx3-ubyte.gz to ./mnist/MNIST/raw\n",
            "\n",
            "Downloading http://yann.lecun.com/exdb/mnist/t10k-labels-idx1-ubyte.gz\n",
            "Downloading http://yann.lecun.com/exdb/mnist/t10k-labels-idx1-ubyte.gz to ./mnist/MNIST/raw/t10k-labels-idx1-ubyte.gz\n"
          ]
        },
        {
          "data": {
            "application/vnd.jupyter.widget-view+json": {
              "model_id": "ab4306767d654876aac1a4a2ed25b44f",
              "version_major": 2,
              "version_minor": 0
            },
            "text/plain": [
              "  0%|          | 0/4542 [00:00<?, ?it/s]"
            ]
          },
          "metadata": {},
          "output_type": "display_data"
        },
        {
          "name": "stdout",
          "output_type": "stream",
          "text": [
            "Extracting ./mnist/MNIST/raw/t10k-labels-idx1-ubyte.gz to ./mnist/MNIST/raw\n",
            "\n"
          ]
        }
      ],
      "source": [
        "train_data, train_label, test_data, test_label, classes = load_data()"
      ]
    },
    {
      "cell_type": "code",
      "execution_count": 5,
      "metadata": {
        "colab": {
          "base_uri": "https://localhost:8080/"
        },
        "id": "TO3c1-XAm0c2",
        "outputId": "5adf020c-949f-4d6a-f073-7615163c318e"
      },
      "outputs": [
        {
          "name": "stdout",
          "output_type": "stream",
          "text": [
            "Shape of training data: (60000, 28, 28)\n",
            "Shape of training labels: (60000,)\n",
            "Shape of test data: (10000, 28, 28)\n",
            "Shape of test labels: (10000,)\n",
            "Number of classes: 10\n"
          ]
        }
      ],
      "source": [
        "print(f'Shape of training data: {train_data.shape}')\n",
        "print(f'Shape of training labels: {train_label.shape}')\n",
        "print(f'Shape of test data: {test_data.shape}')\n",
        "print(f'Shape of test labels: {test_label.shape}')\n",
        "print(f'Number of classes: {len(classes)}')"
      ]
    },
    {
      "cell_type": "markdown",
      "metadata": {
        "id": "oZ0iNSJ8skzP"
      },
      "source": [
        "## 測試 training data 和 testing data 各一筆"
      ]
    },
    {
      "cell_type": "code",
      "execution_count": 6,
      "metadata": {
        "colab": {
          "base_uri": "https://localhost:8080/",
          "height": 282
        },
        "id": "stFAswYcfoiK",
        "outputId": "877f0793-d76f-4ef5-e4ab-d2d46e625ebe"
      },
      "outputs": [
        {
          "data": {
            "image/png": "[encoded data removed]",
            "text/plain": [
              "<Figure size 576x360 with 2 Axes>"
            ]
          },
          "metadata": {
            "needs_background": "light"
          },
          "output_type": "display_data"
        }
      ],
      "source": [
        "# Display samples of training data and test data with their classes\n",
        "plt.rcParams['figure.figsize'] = (8, 5)\n",
        "plt.rcParams['image.cmap'] = 'gray'\n",
        "fig, (ax1, ax2) = plt.subplots(1, 2)\n",
        "ax1.imshow(train_data[0]); ax1.set_title(f'Class of training data:\\n{classes[train_label[0]]}')\n",
        "ax2.imshow(test_data[0]); ax2.set_title(f'Class of test data:\\n{classes[test_label[0]]}')\n",
        "fig.show()"
      ]
    },
    {
      "cell_type": "markdown",
      "metadata": {
        "id": "e2cxIjYAso-2"
      },
      "source": [
        "## 測試所有 training data"
      ]
    },
    {
      "cell_type": "code",
      "execution_count": 7,
      "metadata": {
        "colab": {
          "base_uri": "https://localhost:8080/",
          "height": 482
        },
        "id": "Zblai2cTnl9H",
        "outputId": "765af142-343d-4867-b868-6f05f1fb705d"
      },
      "outputs": [
        {
          "data": {
            "image/png": "[encoded data removed]",
            "text/plain": [
              "<Figure size 864x576 with 80 Axes>"
            ]
          },
          "metadata": {
            "needs_background": "light"
          },
          "output_type": "display_data"
        }
      ],
      "source": [
        "# Display samples of training data from every classes\n",
        "plt.rcParams['figure.figsize'] = (12, 8)\n",
        "num_classes = len(classes)\n",
        "num_example = 8 #每一個類別的數量\n",
        "for label, _ in enumerate(classes):\n",
        "  idxs = np.flatnonzero(train_label == label) #flatnonzero會回傳非0元素的index\n",
        "  idxs = np.random.choice(idxs, size=num_example, replace=False) #代表從idxs中隨機抽取num_example的\"不重複\"數字\n",
        "  for i, idx in enumerate(idxs):\n",
        "    plt_idx = i * num_classes + label + 1\n",
        "    plt.subplot(num_example, num_classes, plt_idx) #plt.subplot(row, column, index)\n",
        "    plt.imshow(train_data[idx]); plt.axis('off')\n",
        "    if i == 0:\n",
        "      plt.title(label) #印出類別的index\n",
        "plt.show()"
      ]
    },
    {
      "cell_type": "markdown",
      "metadata": {
        "id": "xTpugAMYz4qp"
      },
      "source": [
        "## KNN Implementation"
      ]
    },
    {
      "cell_type": "code",
      "execution_count": 8,
      "metadata": {
        "id": "8OKOeQgtLq2-"
      },
      "outputs": [],
      "source": [
        "class knn(object):\n",
        "  def __init__(self, data, label):\n",
        "    self.num_train_data = data.shape[0] #5000\n",
        "    self.train_data = data.reshape(self.num_train_data, -1) #訓練資料\n",
        "    self.train_label = label #訓練解答\n",
        "\n",
        "  def predict(self, test_data, dist_metric='l1', k=1):\n",
        "    num_test_data = test_data.shape[0] #500\n",
        "    dists = np.zeros((num_test_data, self.num_train_data)) #dist為num_test_data * num_train_data大小的二維矩陣\n",
        "    if dist_metric == 'l1':\n",
        "      ####################\n",
        "      # TODO:\n",
        "      # 1. Flatten test_data, that is, change its shape from (num_test_data, test_data_height, test_data_width) to (num_test_data, flatten_test_data)\n",
        "      # 2. Caculate L1 distances between test data and all the training data for each test data, and then store distances in variable `dists`\n",
        "      ####################\n",
        "      \n",
        "      # -----START OF YOUR CODE-----\n",
        "      test_data.reshape(num_test_data, -1) #flatten the numpy array\n",
        "      for test_idx in range(num_test_data):\n",
        "        for train_idx in range(self.num_train_data):\n",
        "          dists[test_idx][train_idx] = np.sum(np.abs(test_data[test_idx] - train_data[train_idx]))\n",
        "      # ------END OF YOUR CODE------\n",
        "\n",
        "    elif dist_metric == 'l2':\n",
        "      ####################\n",
        "      # TODO:\n",
        "      # 1. Flatten test_data, that is, change its shape from (num_test_data, test_data_height, test_data_width) to (num_test_data, flatten_test_data)\n",
        "      # 2. Caculate L2 distances between test data and all the training data for each test data, and then store distances in variable `dists`\n",
        "      ####################\n",
        "\n",
        "      # -----START OF YOUR CODE-----\n",
        "      test_data.reshape(num_test_data, -1) #flatten the numpy array\n",
        "      for test_idx in range(num_test_data):\n",
        "        for train_idx in range(self.num_train_data):\n",
        "          dists[test_idx][train_idx] = np.sqrt(np.sum(np.square(test_data[test_idx] - train_data[train_idx])))\n",
        "      # ------END OF YOUR CODE------\n",
        "\n",
        "    else:\n",
        "      raise ValueError(\"dist_metric can only be 'l1' or 'l2'\")\n",
        "\n",
        "    preds = np.zeros(num_test_data)\n",
        "    ####################\n",
        "    # TODO:\n",
        "    # 1. Take majority vote from k closest data to assign each test data a label, and then store labels in variable `preds`\n",
        "    ####################\n",
        "\n",
        "    # -----START OF YOUR CODE-----\n",
        "    # min_index = np.where(dists[0] == min(dists[0]))\n",
        "    for test_idx in range(len(test_data)):\n",
        "      indexs = np.argpartition(dists[test_idx], k) #最近k個點的index\n",
        "      labels = []\n",
        "      for idx in indexs[:k]:\n",
        "        labels.append(train_label[idx])\n",
        "      max_value = np.bincount(labels).argmax() #找頻率最高的\n",
        "      # min_index = np.where(dists[test_idx] == min(dists[test_idx]))\n",
        "      preds[test_idx] = max_value\n",
        "    # ------END OF YOUR CODE------\n",
        "\n",
        "    return preds"
      ]
    },
    {
      "cell_type": "code",
      "execution_count": 9,
      "metadata": {
        "colab": {
          "base_uri": "https://localhost:8080/",
          "height": 227
        },
        "id": "Lvz7WvBEpvOb",
        "outputId": "1875b33d-9821-4597-c559-283b445bfe2f"
      },
      "outputs": [
        {
          "data": {
            "image/png": "[encoded data removed]",
            "text/plain": [
              "<Figure size 216x216 with 1 Axes>"
            ]
          },
          "metadata": {
            "needs_background": "light"
          },
          "output_type": "display_data"
        }
      ],
      "source": [
        "# Run a single test\n",
        "single_test_data = test_data[:1] #test_data的第一筆資料\n",
        "num_test_data, test_data_height, test_data_width = single_test_data.shape\n",
        "\n",
        "#建立model\n",
        "classifier = knn(train_data, train_label)\n",
        "#猜測\n",
        "predicted_label = classifier.predict(single_test_data, k=1, dist_metric='l2')[0].astype(np.int32)\n",
        "\n",
        "#畫圖\n",
        "plt.rcParams['figure.figsize'] = (3, 3)\n",
        "plt.imshow(single_test_data.reshape(test_data_height, test_data_width)); plt.title(f'Predicted class: {classes[predicted_label]}')\n",
        "plt.show()"
      ]
    },
    {
      "cell_type": "markdown",
      "metadata": {
        "id": "koNsAKfMa6CC"
      },
      "source": [
        "## Applied in Small Dataset "
      ]
    },
    {
      "cell_type": "code",
      "execution_count": 10,
      "metadata": {
        "colab": {
          "base_uri": "https://localhost:8080/"
        },
        "id": "G-RIwX5TC2YT",
        "outputId": "d0c1444c-6413-4fc4-bcc6-f4a48ea1f5a9"
      },
      "outputs": [
        {
          "name": "stdout",
          "output_type": "stream",
          "text": [
            "Number of training data: 5000\n",
            "Number of test data: 500\n"
          ]
        }
      ],
      "source": [
        "small_train_data = train_data[:5000]\n",
        "small_train_label = train_label[:5000]\n",
        "small_test_data = test_data[:500]\n",
        "small_test_label = test_label[:500]\n",
        "classifier = knn(small_train_data, small_train_label)\n",
        "print(f'Number of training data: {small_train_data.shape[0]}')\n",
        "print(f'Number of test data: {small_test_data.shape[0]}')"
      ]
    },
    {
      "cell_type": "code",
      "execution_count": 11,
      "metadata": {
        "colab": {
          "base_uri": "https://localhost:8080/"
        },
        "id": "vC6Pi5ygcWVn",
        "outputId": "3ad2b106-cc92-4062-db63-479b493b5586"
      },
      "outputs": [
        {
          "name": "stdout",
          "output_type": "stream",
          "text": [
            "Using L1 distance metric:\n",
            "k = 2, accuracy = 0.666\n",
            "k = 3, accuracy = 0.692\n",
            "k = 4, accuracy = 0.69\n",
            "k = 10, accuracy = 0.688\n",
            "k = 20, accuracy = 0.672\n",
            "\n",
            "Using L2 distance metric:\n",
            "k = 2, accuracy = 0.204\n",
            "k = 3, accuracy = 0.204\n",
            "k = 4, accuracy = 0.21\n",
            "k = 10, accuracy = 0.196\n",
            "k = 20, accuracy = 0.172\n",
            "\n"
          ]
        }
      ],
      "source": [
        "num_test_data = small_test_data.shape[0]\n",
        "for dm in ['l1', 'l2']:\n",
        "  print(f'Using {dm.upper()} distance metric:')\n",
        "  for kv in [2, 3, 4, 10, 20]:\n",
        "    preds = classifier.predict(small_test_data, k=kv, dist_metric=dm)\n",
        "    num_correct = np.sum(preds == small_test_label)\n",
        "    accuracy = float(num_correct) / num_test_data\n",
        "    print(f'k = {kv}, accuracy = {accuracy}')\n",
        "  print('')"
      ]
    },
    {
      "cell_type": "markdown",
      "metadata": {
        "id": "8beEJT0WeuPX"
      },
      "source": [
        "## Applied in Whole Dataset\n",
        "Try your best to find ideal choices of k value `kv` and distance metric `dm` to maximize the accuracy!"
      ]
    },
    {
      "cell_type": "code",
      "execution_count": 12,
      "metadata": {
        "colab": {
          "base_uri": "https://localhost:8080/"
        },
        "id": "aUdk5rS5E4_z",
        "outputId": "33468758-d97f-4be8-dd47-37e1a1430f48"
      },
      "outputs": [
        {
          "name": "stdout",
          "output_type": "stream",
          "text": [
            "Using L1 distance metric, k = 4\n",
            "Accuracy = 0.7371\n"
          ]
        }
      ],
      "source": [
        "# -----You may change values here-----\n",
        "kv = 4\n",
        "dm = 'l1'\n",
        "# ---------------------------------------\n",
        "\n",
        "num_test_data = test_data.shape[0]\n",
        "preds = classifier.predict(test_data, k=kv, dist_metric=dm)\n",
        "num_correct = np.sum(preds == test_label)\n",
        "accuracy = float(num_correct) / num_test_data\n",
        "print(f'Using {dm.upper()} distance metric, k = {kv}\\nAccuracy = {accuracy}')"
      ]
    },
    {
      "cell_type": "markdown",
      "metadata": {
        "id": "CzJgeG3VFKZq"
      },
      "source": [
        "## Testing the best distance metric and k"
      ]
    },
    {
      "cell_type": "code",
      "execution_count": 13,
      "metadata": {
        "colab": {
          "base_uri": "https://localhost:8080/"
        },
        "id": "tdy4mn3PDWiS",
        "outputId": "2374837f-af09-4fcc-8df6-360838d8e5ff"
      },
      "outputs": [
        {
          "name": "stdout",
          "output_type": "stream",
          "text": [
            "Using L1 distance metric, k = 2\n",
            "Accuracy = 71.00999999999999%\n",
            "目前最好的組合為: l1 + k=2, 其準確率為: 71.00999999999999%\n",
            "\n",
            "---------------------------------------------\n",
            "\n",
            "Using L1 distance metric, k = 3\n",
            "Accuracy = 72.85000000000001%\n",
            "目前最好的組合為: l1 + k=3, 其準確率為: 72.85000000000001%\n",
            "\n",
            "---------------------------------------------\n",
            "\n",
            "Using L1 distance metric, k = 4\n",
            "Accuracy = 73.71%\n",
            "目前最好的組合為: l1 + k=4, 其準確率為: 73.71%\n",
            "\n",
            "---------------------------------------------\n",
            "\n",
            "Using L1 distance metric, k = 10\n",
            "Accuracy = 73.69%\n",
            "目前最好的組合為: l1 + k=4, 其準確率為: 73.71%\n",
            "\n",
            "---------------------------------------------\n",
            "\n",
            "Using L1 distance metric, k = 20\n",
            "Accuracy = 72.81%\n",
            "目前最好的組合為: l1 + k=4, 其準確率為: 73.71%\n",
            "\n",
            "---------------------------------------------\n",
            "\n",
            "Using L2 distance metric, k = 2\n",
            "Accuracy = 19.89%\n",
            "目前最好的組合為: l1 + k=4, 其準確率為: 73.71%\n",
            "\n",
            "---------------------------------------------\n",
            "\n",
            "Using L2 distance metric, k = 3\n",
            "Accuracy = 20.580000000000002%\n",
            "目前最好的組合為: l1 + k=4, 其準確率為: 73.71%\n",
            "\n",
            "---------------------------------------------\n",
            "\n",
            "Using L2 distance metric, k = 4\n",
            "Accuracy = 20.36%\n",
            "目前最好的組合為: l1 + k=4, 其準確率為: 73.71%\n",
            "\n",
            "---------------------------------------------\n",
            "\n",
            "Using L2 distance metric, k = 10\n",
            "Accuracy = 18.19%\n",
            "目前最好的組合為: l1 + k=4, 其準確率為: 73.71%\n",
            "\n",
            "---------------------------------------------\n",
            "\n",
            "Using L2 distance metric, k = 20\n",
            "Accuracy = 16.24%\n",
            "目前最好的組合為: l1 + k=4, 其準確率為: 73.71%\n",
            "\n",
            "---------------------------------------------\n",
            "\n"
          ]
        }
      ],
      "source": [
        "num_test_data = test_data.shape[0]\n",
        "best_k = 0\n",
        "best_method = \"\"\n",
        "highest_accuracy = 0\n",
        "\n",
        "for dm in ['l1', 'l2']:\n",
        "  for kv in [2, 3, 4, 10, 20]:\n",
        "    preds = classifier.predict(test_data, k=kv, dist_metric=dm)\n",
        "    num_correct = np.sum(preds == test_label)\n",
        "    accuracy = float(num_correct) / num_test_data\n",
        "    print(f'Using {dm.upper()} distance metric, k = {kv}\\nAccuracy = {accuracy*100}%')\n",
        "    if highest_accuracy < accuracy:\n",
        "      highest_accuracy = accuracy\n",
        "      best_method = dm\n",
        "      best_k = kv\n",
        "    print(f\"目前最好的組合為: {best_method} + k={best_k}, 其準確率為: {highest_accuracy*100}%\\n\")\n",
        "    print(\"---------------------------------------------\\n\")"
      ]
    }
  ],
  "metadata": {
    "colab": {
      "provenance": [],
      "toc_visible": true
    },
    "kernelspec": {
      "display_name": "Python 3",
      "name": "python3"
    },
    "language_info": {
      "name": "python"
    },
    "widgets": {
      "application/vnd.jupyter.widget-state+json": {
        "06f0e46c221948498e0c8d7806bd6058": {
          "model_module": "@jupyter-widgets/base",
          "model_module_version": "1.2.0",
          "model_name": "LayoutModel",
          "state": {
            "_model_module": "@jupyter-widgets/base",
            "_model_module_version": "1.2.0",
            "_model_name": "LayoutModel",
            "_view_count": null,
            "_view_module": "@jupyter-widgets/base",
            "_view_module_version": "1.2.0",
            "_view_name": "LayoutView",
            "align_content": null,
            "align_items": null,
            "align_self": null,
            "border": null,
            "bottom": null,
            "display": null,
            "flex": null,
            "flex_flow": null,
            "grid_area": null,
            "grid_auto_columns": null,
            "grid_auto_flow": null,
            "grid_auto_rows": null,
            "grid_column": null,
            "grid_gap": null,
            "grid_row": null,
            "grid_template_areas": null,
            "grid_template_columns": null,
            "grid_template_rows": null,
            "height": null,
            "justify_content": null,
            "justify_items": null,
            "left": null,
            "margin": null,
            "max_height": null,
            "max_width": null,
            "min_height": null,
            "min_width": null,
            "object_fit": null,
            "object_position": null,
            "order": null,
            "overflow": null,
            "overflow_x": null,
            "overflow_y": null,
            "padding": null,
            "right": null,
            "top": null,
            "visibility": null,
            "width": null
          }
        },
        "0fb2bfc71b26455780cf27fdc8288bec": {
          "model_module": "@jupyter-widgets/controls",
          "model_module_version": "1.5.0",
          "model_name": "DescriptionStyleModel",
          "state": {
            "_model_module": "@jupyter-widgets/controls",
            "_model_module_version": "1.5.0",
            "_model_name": "DescriptionStyleModel",
            "_view_count": null,
            "_view_module": "@jupyter-widgets/base",
            "_view_module_version": "1.2.0",
            "_view_name": "StyleView",
            "description_width": ""
          }
        },
        "187e9ac020a1472ba5eb6eadfdcf9504": {
          "model_module": "@jupyter-widgets/controls",
          "model_module_version": "1.5.0",
          "model_name": "FloatProgressModel",
          "state": {
            "_dom_classes": [],
            "_model_module": "@jupyter-widgets/controls",
            "_model_module_version": "1.5.0",
            "_model_name": "FloatProgressModel",
            "_view_count": null,
            "_view_module": "@jupyter-widgets/controls",
            "_view_module_version": "1.5.0",
            "_view_name": "ProgressView",
            "bar_style": "success",
            "description": "",
            "description_tooltip": null,
            "layout": "IPY_MODEL_80b5373a71d84274aa8b7b91b5b6b41b",
            "max": 4542,
            "min": 0,
            "orientation": "horizontal",
            "style": "IPY_MODEL_3fa39935a5534fc882414fbe6eac5feb",
            "value": 4542
          }
        },
        "214391a3659f4fe581ad2e12fc3496db": {
          "model_module": "@jupyter-widgets/base",
          "model_module_version": "1.2.0",
          "model_name": "LayoutModel",
          "state": {
            "_model_module": "@jupyter-widgets/base",
            "_model_module_version": "1.2.0",
            "_model_name": "LayoutModel",
            "_view_count": null,
            "_view_module": "@jupyter-widgets/base",
            "_view_module_version": "1.2.0",
            "_view_name": "LayoutView",
            "align_content": null,
            "align_items": null,
            "align_self": null,
            "border": null,
            "bottom": null,
            "display": null,
            "flex": null,
            "flex_flow": null,
            "grid_area": null,
            "grid_auto_columns": null,
            "grid_auto_flow": null,
            "grid_auto_rows": null,
            "grid_column": null,
            "grid_gap": null,
            "grid_row": null,
            "grid_template_areas": null,
            "grid_template_columns": null,
            "grid_template_rows": null,
            "height": null,
            "justify_content": null,
            "justify_items": null,
            "left": null,
            "margin": null,
            "max_height": null,
            "max_width": null,
            "min_height": null,
            "min_width": null,
            "object_fit": null,
            "object_position": null,
            "order": null,
            "overflow": null,
            "overflow_x": null,
            "overflow_y": null,
            "padding": null,
            "right": null,
            "top": null,
            "visibility": null,
            "width": null
          }
        },
        "274c939b7f164214b8d406229710c7c0": {
          "model_module": "@jupyter-widgets/controls",
          "model_module_version": "1.5.0",
          "model_name": "HBoxModel",
          "state": {
            "_dom_classes": [],
            "_model_module": "@jupyter-widgets/controls",
            "_model_module_version": "1.5.0",
            "_model_name": "HBoxModel",
            "_view_count": null,
            "_view_module": "@jupyter-widgets/controls",
            "_view_module_version": "1.5.0",
            "_view_name": "HBoxView",
            "box_style": "",
            "children": [
              "IPY_MODEL_7688f0710b7742f88580b944aa04c597",
              "IPY_MODEL_c977b9417ad74a51a29d21b06ac35950",
              "IPY_MODEL_fe4fcd43cfc04590afed34ce3ff2581e"
            ],
            "layout": "IPY_MODEL_500255c1bbc34aba8a5195e087aa0cb5"
          }
        },
        "275d15becd8c45ab9215030d3b222a9b": {
          "model_module": "@jupyter-widgets/controls",
          "model_module_version": "1.5.0",
          "model_name": "DescriptionStyleModel",
          "state": {
            "_model_module": "@jupyter-widgets/controls",
            "_model_module_version": "1.5.0",
            "_model_name": "DescriptionStyleModel",
            "_view_count": null,
            "_view_module": "@jupyter-widgets/base",
            "_view_module_version": "1.2.0",
            "_view_name": "StyleView",
            "description_width": ""
          }
        },
        "3004b3b0f1314f45a31ae44102d2868e": {
          "model_module": "@jupyter-widgets/base",
          "model_module_version": "1.2.0",
          "model_name": "LayoutModel",
          "state": {
            "_model_module": "@jupyter-widgets/base",
            "_model_module_version": "1.2.0",
            "_model_name": "LayoutModel",
            "_view_count": null,
            "_view_module": "@jupyter-widgets/base",
            "_view_module_version": "1.2.0",
            "_view_name": "LayoutView",
            "align_content": null,
            "align_items": null,
            "align_self": null,
            "border": null,
            "bottom": null,
            "display": null,
            "flex": null,
            "flex_flow": null,
            "grid_area": null,
            "grid_auto_columns": null,
            "grid_auto_flow": null,
            "grid_auto_rows": null,
            "grid_column": null,
            "grid_gap": null,
            "grid_row": null,
            "grid_template_areas": null,
            "grid_template_columns": null,
            "grid_template_rows": null,
            "height": null,
            "justify_content": null,
            "justify_items": null,
            "left": null,
            "margin": null,
            "max_height": null,
            "max_width": null,
            "min_height": null,
            "min_width": null,
            "object_fit": null,
            "object_position": null,
            "order": null,
            "overflow": null,
            "overflow_x": null,
            "overflow_y": null,
            "padding": null,
            "right": null,
            "top": null,
            "visibility": null,
            "width": null
          }
        },
        "313a2649ed0540aaa72fd7e2674247dc": {
          "model_module": "@jupyter-widgets/base",
          "model_module_version": "1.2.0",
          "model_name": "LayoutModel",
          "state": {
            "_model_module": "@jupyter-widgets/base",
            "_model_module_version": "1.2.0",
            "_model_name": "LayoutModel",
            "_view_count": null,
            "_view_module": "@jupyter-widgets/base",
            "_view_module_version": "1.2.0",
            "_view_name": "LayoutView",
            "align_content": null,
            "align_items": null,
            "align_self": null,
            "border": null,
            "bottom": null,
            "display": null,
            "flex": null,
            "flex_flow": null,
            "grid_area": null,
            "grid_auto_columns": null,
            "grid_auto_flow": null,
            "grid_auto_rows": null,
            "grid_column": null,
            "grid_gap": null,
            "grid_row": null,
            "grid_template_areas": null,
            "grid_template_columns": null,
            "grid_template_rows": null,
            "height": null,
            "justify_content": null,
            "justify_items": null,
            "left": null,
            "margin": null,
            "max_height": null,
            "max_width": null,
            "min_height": null,
            "min_width": null,
            "object_fit": null,
            "object_position": null,
            "order": null,
            "overflow": null,
            "overflow_x": null,
            "overflow_y": null,
            "padding": null,
            "right": null,
            "top": null,
            "visibility": null,
            "width": null
          }
        },
        "3fa39935a5534fc882414fbe6eac5feb": {
          "model_module": "@jupyter-widgets/controls",
          "model_module_version": "1.5.0",
          "model_name": "ProgressStyleModel",
          "state": {
            "_model_module": "@jupyter-widgets/controls",
            "_model_module_version": "1.5.0",
            "_model_name": "ProgressStyleModel",
            "_view_count": null,
            "_view_module": "@jupyter-widgets/base",
            "_view_module_version": "1.2.0",
            "_view_name": "StyleView",
            "bar_color": null,
            "description_width": ""
          }
        },
        "44c9ffa2628941f3b2461cf07b57647c": {
          "model_module": "@jupyter-widgets/controls",
          "model_module_version": "1.5.0",
          "model_name": "ProgressStyleModel",
          "state": {
            "_model_module": "@jupyter-widgets/controls",
            "_model_module_version": "1.5.0",
            "_model_name": "ProgressStyleModel",
            "_view_count": null,
            "_view_module": "@jupyter-widgets/base",
            "_view_module_version": "1.2.0",
            "_view_name": "StyleView",
            "bar_color": null,
            "description_width": ""
          }
        },
        "4613113e052441e0b790fcaa9beadf7f": {
          "model_module": "@jupyter-widgets/controls",
          "model_module_version": "1.5.0",
          "model_name": "HBoxModel",
          "state": {
            "_dom_classes": [],
            "_model_module": "@jupyter-widgets/controls",
            "_model_module_version": "1.5.0",
            "_model_name": "HBoxModel",
            "_view_count": null,
            "_view_module": "@jupyter-widgets/controls",
            "_view_module_version": "1.5.0",
            "_view_name": "HBoxView",
            "box_style": "",
            "children": [
              "IPY_MODEL_cc1f69b2ab484b369c436bae488eb89b",
              "IPY_MODEL_e0ee9b6901fa4afb8c22babacc421ad4",
              "IPY_MODEL_f44d6269806046c99f7c09c29eb7282d"
            ],
            "layout": "IPY_MODEL_a2135126c7eb41d7b3f64513f59763d2"
          }
        },
        "4e5d109d2ec742f689203066e378bf66": {
          "model_module": "@jupyter-widgets/base",
          "model_module_version": "1.2.0",
          "model_name": "LayoutModel",
          "state": {
            "_model_module": "@jupyter-widgets/base",
            "_model_module_version": "1.2.0",
            "_model_name": "LayoutModel",
            "_view_count": null,
            "_view_module": "@jupyter-widgets/base",
            "_view_module_version": "1.2.0",
            "_view_name": "LayoutView",
            "align_content": null,
            "align_items": null,
            "align_self": null,
            "border": null,
            "bottom": null,
            "display": null,
            "flex": null,
            "flex_flow": null,
            "grid_area": null,
            "grid_auto_columns": null,
            "grid_auto_flow": null,
            "grid_auto_rows": null,
            "grid_column": null,
            "grid_gap": null,
            "grid_row": null,
            "grid_template_areas": null,
            "grid_template_columns": null,
            "grid_template_rows": null,
            "height": null,
            "justify_content": null,
            "justify_items": null,
            "left": null,
            "margin": null,
            "max_height": null,
            "max_width": null,
            "min_height": null,
            "min_width": null,
            "object_fit": null,
            "object_position": null,
            "order": null,
            "overflow": null,
            "overflow_x": null,
            "overflow_y": null,
            "padding": null,
            "right": null,
            "top": null,
            "visibility": null,
            "width": null
          }
        },
        "500255c1bbc34aba8a5195e087aa0cb5": {
          "model_module": "@jupyter-widgets/base",
          "model_module_version": "1.2.0",
          "model_name": "LayoutModel",
          "state": {
            "_model_module": "@jupyter-widgets/base",
            "_model_module_version": "1.2.0",
            "_model_name": "LayoutModel",
            "_view_count": null,
            "_view_module": "@jupyter-widgets/base",
            "_view_module_version": "1.2.0",
            "_view_name": "LayoutView",
            "align_content": null,
            "align_items": null,
            "align_self": null,
            "border": null,
            "bottom": null,
            "display": null,
            "flex": null,
            "flex_flow": null,
            "grid_area": null,
            "grid_auto_columns": null,
            "grid_auto_flow": null,
            "grid_auto_rows": null,
            "grid_column": null,
            "grid_gap": null,
            "grid_row": null,
            "grid_template_areas": null,
            "grid_template_columns": null,
            "grid_template_rows": null,
            "height": null,
            "justify_content": null,
            "justify_items": null,
            "left": null,
            "margin": null,
            "max_height": null,
            "max_width": null,
            "min_height": null,
            "min_width": null,
            "object_fit": null,
            "object_position": null,
            "order": null,
            "overflow": null,
            "overflow_x": null,
            "overflow_y": null,
            "padding": null,
            "right": null,
            "top": null,
            "visibility": null,
            "width": null
          }
        },
        "7688f0710b7742f88580b944aa04c597": {
          "model_module": "@jupyter-widgets/controls",
          "model_module_version": "1.5.0",
          "model_name": "HTMLModel",
          "state": {
            "_dom_classes": [],
            "_model_module": "@jupyter-widgets/controls",
            "_model_module_version": "1.5.0",
            "_model_name": "HTMLModel",
            "_view_count": null,
            "_view_module": "@jupyter-widgets/controls",
            "_view_module_version": "1.5.0",
            "_view_name": "HTMLView",
            "description": "",
            "description_tooltip": null,
            "layout": "IPY_MODEL_3004b3b0f1314f45a31ae44102d2868e",
            "placeholder": "​",
            "style": "IPY_MODEL_a37e60ae89f64505ad95ed7fdd8fbeb5",
            "value": "100%"
          }
        },
        "7bdc250eac8b41878d935ff534317c82": {
          "model_module": "@jupyter-widgets/controls",
          "model_module_version": "1.5.0",
          "model_name": "DescriptionStyleModel",
          "state": {
            "_model_module": "@jupyter-widgets/controls",
            "_model_module_version": "1.5.0",
            "_model_name": "DescriptionStyleModel",
            "_view_count": null,
            "_view_module": "@jupyter-widgets/base",
            "_view_module_version": "1.2.0",
            "_view_name": "StyleView",
            "description_width": ""
          }
        },
        "7d58ad3cfbc0441eb595892f1f3bf321": {
          "model_module": "@jupyter-widgets/base",
          "model_module_version": "1.2.0",
          "model_name": "LayoutModel",
          "state": {
            "_model_module": "@jupyter-widgets/base",
            "_model_module_version": "1.2.0",
            "_model_name": "LayoutModel",
            "_view_count": null,
            "_view_module": "@jupyter-widgets/base",
            "_view_module_version": "1.2.0",
            "_view_name": "LayoutView",
            "align_content": null,
            "align_items": null,
            "align_self": null,
            "border": null,
            "bottom": null,
            "display": null,
            "flex": null,
            "flex_flow": null,
            "grid_area": null,
            "grid_auto_columns": null,
            "grid_auto_flow": null,
            "grid_auto_rows": null,
            "grid_column": null,
            "grid_gap": null,
            "grid_row": null,
            "grid_template_areas": null,
            "grid_template_columns": null,
            "grid_template_rows": null,
            "height": null,
            "justify_content": null,
            "justify_items": null,
            "left": null,
            "margin": null,
            "max_height": null,
            "max_width": null,
            "min_height": null,
            "min_width": null,
            "object_fit": null,
            "object_position": null,
            "order": null,
            "overflow": null,
            "overflow_x": null,
            "overflow_y": null,
            "padding": null,
            "right": null,
            "top": null,
            "visibility": null,
            "width": null
          }
        },
        "80324548470f4d75954a9c164a39e32c": {
          "model_module": "@jupyter-widgets/controls",
          "model_module_version": "1.5.0",
          "model_name": "FloatProgressModel",
          "state": {
            "_dom_classes": [],
            "_model_module": "@jupyter-widgets/controls",
            "_model_module_version": "1.5.0",
            "_model_name": "FloatProgressModel",
            "_view_count": null,
            "_view_module": "@jupyter-widgets/controls",
            "_view_module_version": "1.5.0",
            "_view_name": "ProgressView",
            "bar_style": "success",
            "description": "",
            "description_tooltip": null,
            "layout": "IPY_MODEL_214391a3659f4fe581ad2e12fc3496db",
            "max": 1648877,
            "min": 0,
            "orientation": "horizontal",
            "style": "IPY_MODEL_44c9ffa2628941f3b2461cf07b57647c",
            "value": 1648877
          }
        },
        "80b5373a71d84274aa8b7b91b5b6b41b": {
          "model_module": "@jupyter-widgets/base",
          "model_module_version": "1.2.0",
          "model_name": "LayoutModel",
          "state": {
            "_model_module": "@jupyter-widgets/base",
            "_model_module_version": "1.2.0",
            "_model_name": "LayoutModel",
            "_view_count": null,
            "_view_module": "@jupyter-widgets/base",
            "_view_module_version": "1.2.0",
            "_view_name": "LayoutView",
            "align_content": null,
            "align_items": null,
            "align_self": null,
            "border": null,
            "bottom": null,
            "display": null,
            "flex": null,
            "flex_flow": null,
            "grid_area": null,
            "grid_auto_columns": null,
            "grid_auto_flow": null,
            "grid_auto_rows": null,
            "grid_column": null,
            "grid_gap": null,
            "grid_row": null,
            "grid_template_areas": null,
            "grid_template_columns": null,
            "grid_template_rows": null,
            "height": null,
            "justify_content": null,
            "justify_items": null,
            "left": null,
            "margin": null,
            "max_height": null,
            "max_width": null,
            "min_height": null,
            "min_width": null,
            "object_fit": null,
            "object_position": null,
            "order": null,
            "overflow": null,
            "overflow_x": null,
            "overflow_y": null,
            "padding": null,
            "right": null,
            "top": null,
            "visibility": null,
            "width": null
          }
        },
        "8207d314a7c74c379741046e83527437": {
          "model_module": "@jupyter-widgets/controls",
          "model_module_version": "1.5.0",
          "model_name": "DescriptionStyleModel",
          "state": {
            "_model_module": "@jupyter-widgets/controls",
            "_model_module_version": "1.5.0",
            "_model_name": "DescriptionStyleModel",
            "_view_count": null,
            "_view_module": "@jupyter-widgets/base",
            "_view_module_version": "1.2.0",
            "_view_name": "StyleView",
            "description_width": ""
          }
        },
        "832a296ab6084234b091b9af4af67f06": {
          "model_module": "@jupyter-widgets/base",
          "model_module_version": "1.2.0",
          "model_name": "LayoutModel",
          "state": {
            "_model_module": "@jupyter-widgets/base",
            "_model_module_version": "1.2.0",
            "_model_name": "LayoutModel",
            "_view_count": null,
            "_view_module": "@jupyter-widgets/base",
            "_view_module_version": "1.2.0",
            "_view_name": "LayoutView",
            "align_content": null,
            "align_items": null,
            "align_self": null,
            "border": null,
            "bottom": null,
            "display": null,
            "flex": null,
            "flex_flow": null,
            "grid_area": null,
            "grid_auto_columns": null,
            "grid_auto_flow": null,
            "grid_auto_rows": null,
            "grid_column": null,
            "grid_gap": null,
            "grid_row": null,
            "grid_template_areas": null,
            "grid_template_columns": null,
            "grid_template_rows": null,
            "height": null,
            "justify_content": null,
            "justify_items": null,
            "left": null,
            "margin": null,
            "max_height": null,
            "max_width": null,
            "min_height": null,
            "min_width": null,
            "object_fit": null,
            "object_position": null,
            "order": null,
            "overflow": null,
            "overflow_x": null,
            "overflow_y": null,
            "padding": null,
            "right": null,
            "top": null,
            "visibility": null,
            "width": null
          }
        },
        "84e5b0a7754c4e81b44fabd961ae07fc": {
          "model_module": "@jupyter-widgets/controls",
          "model_module_version": "1.5.0",
          "model_name": "HTMLModel",
          "state": {
            "_dom_classes": [],
            "_model_module": "@jupyter-widgets/controls",
            "_model_module_version": "1.5.0",
            "_model_name": "HTMLModel",
            "_view_count": null,
            "_view_module": "@jupyter-widgets/controls",
            "_view_module_version": "1.5.0",
            "_view_name": "HTMLView",
            "description": "",
            "description_tooltip": null,
            "layout": "IPY_MODEL_ff383935b49b4b599e1aaee14a076251",
            "placeholder": "​",
            "style": "IPY_MODEL_275d15becd8c45ab9215030d3b222a9b",
            "value": "100%"
          }
        },
        "9688cfb2332c46eb9b2817cd99b91f74": {
          "model_module": "@jupyter-widgets/controls",
          "model_module_version": "1.5.0",
          "model_name": "HTMLModel",
          "state": {
            "_dom_classes": [],
            "_model_module": "@jupyter-widgets/controls",
            "_model_module_version": "1.5.0",
            "_model_name": "HTMLModel",
            "_view_count": null,
            "_view_module": "@jupyter-widgets/controls",
            "_view_module_version": "1.5.0",
            "_view_name": "HTMLView",
            "description": "",
            "description_tooltip": null,
            "layout": "IPY_MODEL_06f0e46c221948498e0c8d7806bd6058",
            "placeholder": "​",
            "style": "IPY_MODEL_8207d314a7c74c379741046e83527437",
            "value": "100%"
          }
        },
        "a2135126c7eb41d7b3f64513f59763d2": {
          "model_module": "@jupyter-widgets/base",
          "model_module_version": "1.2.0",
          "model_name": "LayoutModel",
          "state": {
            "_model_module": "@jupyter-widgets/base",
            "_model_module_version": "1.2.0",
            "_model_name": "LayoutModel",
            "_view_count": null,
            "_view_module": "@jupyter-widgets/base",
            "_view_module_version": "1.2.0",
            "_view_name": "LayoutView",
            "align_content": null,
            "align_items": null,
            "align_self": null,
            "border": null,
            "bottom": null,
            "display": null,
            "flex": null,
            "flex_flow": null,
            "grid_area": null,
            "grid_auto_columns": null,
            "grid_auto_flow": null,
            "grid_auto_rows": null,
            "grid_column": null,
            "grid_gap": null,
            "grid_row": null,
            "grid_template_areas": null,
            "grid_template_columns": null,
            "grid_template_rows": null,
            "height": null,
            "justify_content": null,
            "justify_items": null,
            "left": null,
            "margin": null,
            "max_height": null,
            "max_width": null,
            "min_height": null,
            "min_width": null,
            "object_fit": null,
            "object_position": null,
            "order": null,
            "overflow": null,
            "overflow_x": null,
            "overflow_y": null,
            "padding": null,
            "right": null,
            "top": null,
            "visibility": null,
            "width": null
          }
        },
        "a22a5971eef84f64aa559a3d49ae9f03": {
          "model_module": "@jupyter-widgets/base",
          "model_module_version": "1.2.0",
          "model_name": "LayoutModel",
          "state": {
            "_model_module": "@jupyter-widgets/base",
            "_model_module_version": "1.2.0",
            "_model_name": "LayoutModel",
            "_view_count": null,
            "_view_module": "@jupyter-widgets/base",
            "_view_module_version": "1.2.0",
            "_view_name": "LayoutView",
            "align_content": null,
            "align_items": null,
            "align_self": null,
            "border": null,
            "bottom": null,
            "display": null,
            "flex": null,
            "flex_flow": null,
            "grid_area": null,
            "grid_auto_columns": null,
            "grid_auto_flow": null,
            "grid_auto_rows": null,
            "grid_column": null,
            "grid_gap": null,
            "grid_row": null,
            "grid_template_areas": null,
            "grid_template_columns": null,
            "grid_template_rows": null,
            "height": null,
            "justify_content": null,
            "justify_items": null,
            "left": null,
            "margin": null,
            "max_height": null,
            "max_width": null,
            "min_height": null,
            "min_width": null,
            "object_fit": null,
            "object_position": null,
            "order": null,
            "overflow": null,
            "overflow_x": null,
            "overflow_y": null,
            "padding": null,
            "right": null,
            "top": null,
            "visibility": null,
            "width": null
          }
        },
        "a37e60ae89f64505ad95ed7fdd8fbeb5": {
          "model_module": "@jupyter-widgets/controls",
          "model_module_version": "1.5.0",
          "model_name": "DescriptionStyleModel",
          "state": {
            "_model_module": "@jupyter-widgets/controls",
            "_model_module_version": "1.5.0",
            "_model_name": "DescriptionStyleModel",
            "_view_count": null,
            "_view_module": "@jupyter-widgets/base",
            "_view_module_version": "1.2.0",
            "_view_name": "StyleView",
            "description_width": ""
          }
        },
        "a991b1f13f42461c85cc9a5c4f1f4626": {
          "model_module": "@jupyter-widgets/controls",
          "model_module_version": "1.5.0",
          "model_name": "DescriptionStyleModel",
          "state": {
            "_model_module": "@jupyter-widgets/controls",
            "_model_module_version": "1.5.0",
            "_model_name": "DescriptionStyleModel",
            "_view_count": null,
            "_view_module": "@jupyter-widgets/base",
            "_view_module_version": "1.2.0",
            "_view_name": "StyleView",
            "description_width": ""
          }
        },
        "ab4306767d654876aac1a4a2ed25b44f": {
          "model_module": "@jupyter-widgets/controls",
          "model_module_version": "1.5.0",
          "model_name": "HBoxModel",
          "state": {
            "_dom_classes": [],
            "_model_module": "@jupyter-widgets/controls",
            "_model_module_version": "1.5.0",
            "_model_name": "HBoxModel",
            "_view_count": null,
            "_view_module": "@jupyter-widgets/controls",
            "_view_module_version": "1.5.0",
            "_view_name": "HBoxView",
            "box_style": "",
            "children": [
              "IPY_MODEL_84e5b0a7754c4e81b44fabd961ae07fc",
              "IPY_MODEL_187e9ac020a1472ba5eb6eadfdcf9504",
              "IPY_MODEL_be0e7bc3d3e645ddb3d21970e76b7ed7"
            ],
            "layout": "IPY_MODEL_eb75e2cda58f45af8d8624dbb08e56c5"
          }
        },
        "abeaeb27d3384d9d9a742e12f57847c5": {
          "model_module": "@jupyter-widgets/base",
          "model_module_version": "1.2.0",
          "model_name": "LayoutModel",
          "state": {
            "_model_module": "@jupyter-widgets/base",
            "_model_module_version": "1.2.0",
            "_model_name": "LayoutModel",
            "_view_count": null,
            "_view_module": "@jupyter-widgets/base",
            "_view_module_version": "1.2.0",
            "_view_name": "LayoutView",
            "align_content": null,
            "align_items": null,
            "align_self": null,
            "border": null,
            "bottom": null,
            "display": null,
            "flex": null,
            "flex_flow": null,
            "grid_area": null,
            "grid_auto_columns": null,
            "grid_auto_flow": null,
            "grid_auto_rows": null,
            "grid_column": null,
            "grid_gap": null,
            "grid_row": null,
            "grid_template_areas": null,
            "grid_template_columns": null,
            "grid_template_rows": null,
            "height": null,
            "justify_content": null,
            "justify_items": null,
            "left": null,
            "margin": null,
            "max_height": null,
            "max_width": null,
            "min_height": null,
            "min_width": null,
            "object_fit": null,
            "object_position": null,
            "order": null,
            "overflow": null,
            "overflow_x": null,
            "overflow_y": null,
            "padding": null,
            "right": null,
            "top": null,
            "visibility": null,
            "width": null
          }
        },
        "b93772220721419f8216bc2ea378fa18": {
          "model_module": "@jupyter-widgets/controls",
          "model_module_version": "1.5.0",
          "model_name": "DescriptionStyleModel",
          "state": {
            "_model_module": "@jupyter-widgets/controls",
            "_model_module_version": "1.5.0",
            "_model_name": "DescriptionStyleModel",
            "_view_count": null,
            "_view_module": "@jupyter-widgets/base",
            "_view_module_version": "1.2.0",
            "_view_name": "StyleView",
            "description_width": ""
          }
        },
        "be0e7bc3d3e645ddb3d21970e76b7ed7": {
          "model_module": "@jupyter-widgets/controls",
          "model_module_version": "1.5.0",
          "model_name": "HTMLModel",
          "state": {
            "_dom_classes": [],
            "_model_module": "@jupyter-widgets/controls",
            "_model_module_version": "1.5.0",
            "_model_name": "HTMLModel",
            "_view_count": null,
            "_view_module": "@jupyter-widgets/controls",
            "_view_module_version": "1.5.0",
            "_view_name": "HTMLView",
            "description": "",
            "description_tooltip": null,
            "layout": "IPY_MODEL_4e5d109d2ec742f689203066e378bf66",
            "placeholder": "​",
            "style": "IPY_MODEL_a991b1f13f42461c85cc9a5c4f1f4626",
            "value": " 4542/4542 [00:00&lt;00:00, 292765.27it/s]"
          }
        },
        "c7d3ff0ae84a45638d85b5b52a6a9b4b": {
          "model_module": "@jupyter-widgets/controls",
          "model_module_version": "1.5.0",
          "model_name": "HBoxModel",
          "state": {
            "_dom_classes": [],
            "_model_module": "@jupyter-widgets/controls",
            "_model_module_version": "1.5.0",
            "_model_name": "HBoxModel",
            "_view_count": null,
            "_view_module": "@jupyter-widgets/controls",
            "_view_module_version": "1.5.0",
            "_view_name": "HBoxView",
            "box_style": "",
            "children": [
              "IPY_MODEL_9688cfb2332c46eb9b2817cd99b91f74",
              "IPY_MODEL_80324548470f4d75954a9c164a39e32c",
              "IPY_MODEL_d76eedd6b1064223996c5dc272357f84"
            ],
            "layout": "IPY_MODEL_832a296ab6084234b091b9af4af67f06"
          }
        },
        "c977b9417ad74a51a29d21b06ac35950": {
          "model_module": "@jupyter-widgets/controls",
          "model_module_version": "1.5.0",
          "model_name": "FloatProgressModel",
          "state": {
            "_dom_classes": [],
            "_model_module": "@jupyter-widgets/controls",
            "_model_module_version": "1.5.0",
            "_model_name": "FloatProgressModel",
            "_view_count": null,
            "_view_module": "@jupyter-widgets/controls",
            "_view_module_version": "1.5.0",
            "_view_name": "ProgressView",
            "bar_style": "success",
            "description": "",
            "description_tooltip": null,
            "layout": "IPY_MODEL_d7f1abcebade4c94955e30a93e618778",
            "max": 28881,
            "min": 0,
            "orientation": "horizontal",
            "style": "IPY_MODEL_ff291a025608445db331c6e7ade82431",
            "value": 28881
          }
        },
        "cc1f69b2ab484b369c436bae488eb89b": {
          "model_module": "@jupyter-widgets/controls",
          "model_module_version": "1.5.0",
          "model_name": "HTMLModel",
          "state": {
            "_dom_classes": [],
            "_model_module": "@jupyter-widgets/controls",
            "_model_module_version": "1.5.0",
            "_model_name": "HTMLModel",
            "_view_count": null,
            "_view_module": "@jupyter-widgets/controls",
            "_view_module_version": "1.5.0",
            "_view_name": "HTMLView",
            "description": "",
            "description_tooltip": null,
            "layout": "IPY_MODEL_a22a5971eef84f64aa559a3d49ae9f03",
            "placeholder": "​",
            "style": "IPY_MODEL_0fb2bfc71b26455780cf27fdc8288bec",
            "value": "100%"
          }
        },
        "d057ff5f8f99413eae5e88090f2abbd8": {
          "model_module": "@jupyter-widgets/base",
          "model_module_version": "1.2.0",
          "model_name": "LayoutModel",
          "state": {
            "_model_module": "@jupyter-widgets/base",
            "_model_module_version": "1.2.0",
            "_model_name": "LayoutModel",
            "_view_count": null,
            "_view_module": "@jupyter-widgets/base",
            "_view_module_version": "1.2.0",
            "_view_name": "LayoutView",
            "align_content": null,
            "align_items": null,
            "align_self": null,
            "border": null,
            "bottom": null,
            "display": null,
            "flex": null,
            "flex_flow": null,
            "grid_area": null,
            "grid_auto_columns": null,
            "grid_auto_flow": null,
            "grid_auto_rows": null,
            "grid_column": null,
            "grid_gap": null,
            "grid_row": null,
            "grid_template_areas": null,
            "grid_template_columns": null,
            "grid_template_rows": null,
            "height": null,
            "justify_content": null,
            "justify_items": null,
            "left": null,
            "margin": null,
            "max_height": null,
            "max_width": null,
            "min_height": null,
            "min_width": null,
            "object_fit": null,
            "object_position": null,
            "order": null,
            "overflow": null,
            "overflow_x": null,
            "overflow_y": null,
            "padding": null,
            "right": null,
            "top": null,
            "visibility": null,
            "width": null
          }
        },
        "d76eedd6b1064223996c5dc272357f84": {
          "model_module": "@jupyter-widgets/controls",
          "model_module_version": "1.5.0",
          "model_name": "HTMLModel",
          "state": {
            "_dom_classes": [],
            "_model_module": "@jupyter-widgets/controls",
            "_model_module_version": "1.5.0",
            "_model_name": "HTMLModel",
            "_view_count": null,
            "_view_module": "@jupyter-widgets/controls",
            "_view_module_version": "1.5.0",
            "_view_name": "HTMLView",
            "description": "",
            "description_tooltip": null,
            "layout": "IPY_MODEL_abeaeb27d3384d9d9a742e12f57847c5",
            "placeholder": "​",
            "style": "IPY_MODEL_b93772220721419f8216bc2ea378fa18",
            "value": " 1648877/1648877 [00:00&lt;00:00, 18332771.53it/s]"
          }
        },
        "d7f1abcebade4c94955e30a93e618778": {
          "model_module": "@jupyter-widgets/base",
          "model_module_version": "1.2.0",
          "model_name": "LayoutModel",
          "state": {
            "_model_module": "@jupyter-widgets/base",
            "_model_module_version": "1.2.0",
            "_model_name": "LayoutModel",
            "_view_count": null,
            "_view_module": "@jupyter-widgets/base",
            "_view_module_version": "1.2.0",
            "_view_name": "LayoutView",
            "align_content": null,
            "align_items": null,
            "align_self": null,
            "border": null,
            "bottom": null,
            "display": null,
            "flex": null,
            "flex_flow": null,
            "grid_area": null,
            "grid_auto_columns": null,
            "grid_auto_flow": null,
            "grid_auto_rows": null,
            "grid_column": null,
            "grid_gap": null,
            "grid_row": null,
            "grid_template_areas": null,
            "grid_template_columns": null,
            "grid_template_rows": null,
            "height": null,
            "justify_content": null,
            "justify_items": null,
            "left": null,
            "margin": null,
            "max_height": null,
            "max_width": null,
            "min_height": null,
            "min_width": null,
            "object_fit": null,
            "object_position": null,
            "order": null,
            "overflow": null,
            "overflow_x": null,
            "overflow_y": null,
            "padding": null,
            "right": null,
            "top": null,
            "visibility": null,
            "width": null
          }
        },
        "e0ee9b6901fa4afb8c22babacc421ad4": {
          "model_module": "@jupyter-widgets/controls",
          "model_module_version": "1.5.0",
          "model_name": "FloatProgressModel",
          "state": {
            "_dom_classes": [],
            "_model_module": "@jupyter-widgets/controls",
            "_model_module_version": "1.5.0",
            "_model_name": "FloatProgressModel",
            "_view_count": null,
            "_view_module": "@jupyter-widgets/controls",
            "_view_module_version": "1.5.0",
            "_view_name": "ProgressView",
            "bar_style": "success",
            "description": "",
            "description_tooltip": null,
            "layout": "IPY_MODEL_7d58ad3cfbc0441eb595892f1f3bf321",
            "max": 9912422,
            "min": 0,
            "orientation": "horizontal",
            "style": "IPY_MODEL_fa3d21e3219f4c9d922fd42143c63dfa",
            "value": 9912422
          }
        },
        "eb75e2cda58f45af8d8624dbb08e56c5": {
          "model_module": "@jupyter-widgets/base",
          "model_module_version": "1.2.0",
          "model_name": "LayoutModel",
          "state": {
            "_model_module": "@jupyter-widgets/base",
            "_model_module_version": "1.2.0",
            "_model_name": "LayoutModel",
            "_view_count": null,
            "_view_module": "@jupyter-widgets/base",
            "_view_module_version": "1.2.0",
            "_view_name": "LayoutView",
            "align_content": null,
            "align_items": null,
            "align_self": null,
            "border": null,
            "bottom": null,
            "display": null,
            "flex": null,
            "flex_flow": null,
            "grid_area": null,
            "grid_auto_columns": null,
            "grid_auto_flow": null,
            "grid_auto_rows": null,
            "grid_column": null,
            "grid_gap": null,
            "grid_row": null,
            "grid_template_areas": null,
            "grid_template_columns": null,
            "grid_template_rows": null,
            "height": null,
            "justify_content": null,
            "justify_items": null,
            "left": null,
            "margin": null,
            "max_height": null,
            "max_width": null,
            "min_height": null,
            "min_width": null,
            "object_fit": null,
            "object_position": null,
            "order": null,
            "overflow": null,
            "overflow_x": null,
            "overflow_y": null,
            "padding": null,
            "right": null,
            "top": null,
            "visibility": null,
            "width": null
          }
        },
        "f44d6269806046c99f7c09c29eb7282d": {
          "model_module": "@jupyter-widgets/controls",
          "model_module_version": "1.5.0",
          "model_name": "HTMLModel",
          "state": {
            "_dom_classes": [],
            "_model_module": "@jupyter-widgets/controls",
            "_model_module_version": "1.5.0",
            "_model_name": "HTMLModel",
            "_view_count": null,
            "_view_module": "@jupyter-widgets/controls",
            "_view_module_version": "1.5.0",
            "_view_name": "HTMLView",
            "description": "",
            "description_tooltip": null,
            "layout": "IPY_MODEL_313a2649ed0540aaa72fd7e2674247dc",
            "placeholder": "​",
            "style": "IPY_MODEL_fe464b025201445fb8c791ad906a04ca",
            "value": " 9912422/9912422 [00:00&lt;00:00, 21618190.06it/s]"
          }
        },
        "fa3d21e3219f4c9d922fd42143c63dfa": {
          "model_module": "@jupyter-widgets/controls",
          "model_module_version": "1.5.0",
          "model_name": "ProgressStyleModel",
          "state": {
            "_model_module": "@jupyter-widgets/controls",
            "_model_module_version": "1.5.0",
            "_model_name": "ProgressStyleModel",
            "_view_count": null,
            "_view_module": "@jupyter-widgets/base",
            "_view_module_version": "1.2.0",
            "_view_name": "StyleView",
            "bar_color": null,
            "description_width": ""
          }
        },
        "fe464b025201445fb8c791ad906a04ca": {
          "model_module": "@jupyter-widgets/controls",
          "model_module_version": "1.5.0",
          "model_name": "DescriptionStyleModel",
          "state": {
            "_model_module": "@jupyter-widgets/controls",
            "_model_module_version": "1.5.0",
            "_model_name": "DescriptionStyleModel",
            "_view_count": null,
            "_view_module": "@jupyter-widgets/base",
            "_view_module_version": "1.2.0",
            "_view_name": "StyleView",
            "description_width": ""
          }
        },
        "fe4fcd43cfc04590afed34ce3ff2581e": {
          "model_module": "@jupyter-widgets/controls",
          "model_module_version": "1.5.0",
          "model_name": "HTMLModel",
          "state": {
            "_dom_classes": [],
            "_model_module": "@jupyter-widgets/controls",
            "_model_module_version": "1.5.0",
            "_model_name": "HTMLModel",
            "_view_count": null,
            "_view_module": "@jupyter-widgets/controls",
            "_view_module_version": "1.5.0",
            "_view_name": "HTMLView",
            "description": "",
            "description_tooltip": null,
            "layout": "IPY_MODEL_d057ff5f8f99413eae5e88090f2abbd8",
            "placeholder": "​",
            "style": "IPY_MODEL_7bdc250eac8b41878d935ff534317c82",
            "value": " 28881/28881 [00:00&lt;00:00, 1182065.36it/s]"
          }
        },
        "ff291a025608445db331c6e7ade82431": {
          "model_module": "@jupyter-widgets/controls",
          "model_module_version": "1.5.0",
          "model_name": "ProgressStyleModel",
          "state": {
            "_model_module": "@jupyter-widgets/controls",
            "_model_module_version": "1.5.0",
            "_model_name": "ProgressStyleModel",
            "_view_count": null,
            "_view_module": "@jupyter-widgets/base",
            "_view_module_version": "1.2.0",
            "_view_name": "StyleView",
            "bar_color": null,
            "description_width": ""
          }
        },
        "ff383935b49b4b599e1aaee14a076251": {
          "model_module": "@jupyter-widgets/base",
          "model_module_version": "1.2.0",
          "model_name": "LayoutModel",
          "state": {
            "_model_module": "@jupyter-widgets/base",
            "_model_module_version": "1.2.0",
            "_model_name": "LayoutModel",
            "_view_count": null,
            "_view_module": "@jupyter-widgets/base",
            "_view_module_version": "1.2.0",
            "_view_name": "LayoutView",
            "align_content": null,
            "align_items": null,
            "align_self": null,
            "border": null,
            "bottom": null,
            "display": null,
            "flex": null,
            "flex_flow": null,
            "grid_area": null,
            "grid_auto_columns": null,
            "grid_auto_flow": null,
            "grid_auto_rows": null,
            "grid_column": null,
            "grid_gap": null,
            "grid_row": null,
            "grid_template_areas": null,
            "grid_template_columns": null,
            "grid_template_rows": null,
            "height": null,
            "justify_content": null,
            "justify_items": null,
            "left": null,
            "margin": null,
            "max_height": null,
            "max_width": null,
            "min_height": null,
            "min_width": null,
            "object_fit": null,
            "object_position": null,
            "order": null,
            "overflow": null,
            "overflow_x": null,
            "overflow_y": null,
            "padding": null,
            "right": null,
            "top": null,
            "visibility": null,
            "width": null
          }
        }
      }
    }
  },
  "nbformat": 4,
  "nbformat_minor": 0
}
